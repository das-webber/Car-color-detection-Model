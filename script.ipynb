{
 "cells": [
  {
   "cell_type": "code",
   "execution_count": 2,
   "id": "ccd3f6b9",
   "metadata": {},
   "outputs": [
    {
     "name": "stdout",
     "output_type": "stream",
     "text": [
      "✅ Dataset ready in ./data\n"
     ]
    }
   ],
   "source": [
    "# prepare_dataset.py\n",
    "import os, zipfile, shutil, random\n",
    "import requests\n",
    "\n",
    "\n",
    "src = \"car_color_raw/train\"\n",
    "dst = \"data\"\n",
    "classes = os.listdir(src)\n",
    "\n",
    "for cls in classes:\n",
    "    imgs = os.listdir(os.path.join(src, cls))\n",
    "    label = \"blue\" if cls.lower()==\"blue\" else \"other\"\n",
    "    for subset in [\"train\",\"val\"]:\n",
    "        os.makedirs(os.path.join(dst, subset, label), exist_ok=True)\n",
    "\n",
    "    # split into train/val (80/20)\n",
    "    random.shuffle(imgs)\n",
    "    split_idx = int(0.8*len(imgs))\n",
    "    for i,img in enumerate(imgs):\n",
    "        subset = \"train\" if i<split_idx else \"val\"\n",
    "        shutil.copy(os.path.join(src, cls, img), os.path.join(dst, subset, label, img))\n",
    "\n",
    "print(\"✅ Dataset ready in ./data\")\n"
   ]
  },
  {
   "cell_type": "code",
   "execution_count": null,
   "id": "3fce56d5",
   "metadata": {},
   "outputs": [],
   "source": []
  }
 ],
 "metadata": {
  "kernelspec": {
   "display_name": "Python 3",
   "language": "python",
   "name": "python3"
  },
  "language_info": {
   "codemirror_mode": {
    "name": "ipython",
    "version": 3
   },
   "file_extension": ".py",
   "mimetype": "text/x-python",
   "name": "python",
   "nbconvert_exporter": "python",
   "pygments_lexer": "ipython3",
   "version": "3.10.11"
  }
 },
 "nbformat": 4,
 "nbformat_minor": 5
}
